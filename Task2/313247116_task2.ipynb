{
 "cells": [
  {
   "cell_type": "code",
   "execution_count": 2,
   "id": "6a3dca75",
   "metadata": {},
   "outputs": [],
   "source": [
    "import pandas as pd\n",
    "\n",
    "df = pd.read_csv('mobile_price_1.csv')"
   ]
  },
  {
   "cell_type": "code",
   "execution_count": 5,
   "id": "5672ac65",
   "metadata": {},
   "outputs": [
    {
     "name": "stdout",
     "output_type": "stream",
     "text": [
      "<class 'pandas.core.frame.DataFrame'>\n"
     ]
    }
   ],
   "source": [
    "print(type(df))"
   ]
  },
  {
   "cell_type": "code",
   "execution_count": null,
   "id": "86aaab95",
   "metadata": {},
   "outputs": [],
   "source": [
    "#speed - ordinal\n",
    "#"
   ]
  },
  {
   "cell_type": "code",
   "execution_count": 27,
   "id": "fdf53e41",
   "metadata": {},
   "outputs": [],
   "source": [
    "df[\"resolution\"] = df[\"px_height\"] * df[\"px_width\"]"
   ]
  },
  {
   "cell_type": "code",
   "execution_count": null,
   "id": "2d996c86",
   "metadata": {},
   "outputs": [],
   "source": []
  },
  {
   "cell_type": "code",
   "execution_count": null,
   "id": "43f622e6",
   "metadata": {},
   "outputs": [],
   "source": []
  },
  {
   "cell_type": "code",
   "execution_count": 14,
   "id": "7715ff55",
   "metadata": {},
   "outputs": [],
   "source": [
    "df[\"call_ratio\"] = df[\"battery_power\"] / df[\"talk_time\"] # Add a column that holds the ratio battery_power/talk_time and name it call_ratio. 6."
   ]
  },
  {
   "cell_type": "code",
   "execution_count": null,
   "id": "aa885368",
   "metadata": {},
   "outputs": [],
   "source": []
  },
  {
   "cell_type": "code",
   "execution_count": 16,
   "id": "3c2833f0",
   "metadata": {},
   "outputs": [],
   "source": [
    "df[\"memory\"] = df[\"memory\"]/1000 # Change the memory column to hold the memory in GB instead of MB."
   ]
  },
  {
   "cell_type": "code",
   "execution_count": null,
   "id": "2f1d758d",
   "metadata": {},
   "outputs": [],
   "source": []
  },
  {
   "cell_type": "code",
   "execution_count": null,
   "id": "689fc04c",
   "metadata": {},
   "outputs": [],
   "source": []
  },
  {
   "cell_type": "code",
   "execution_count": 99,
   "id": "12168ebc",
   "metadata": {},
   "outputs": [],
   "source": [
    "df.speed = df.speed.astype('category')\n",
    "df.cores = df.cores.astype('category')\n",
    "df.screen = df.screen.astype('category') # 8. Convert the following features into categorical series in the Dataframe: speed,screen,cores"
   ]
  },
  {
   "cell_type": "code",
   "execution_count": 98,
   "id": "5865ceae",
   "metadata": {
    "scrolled": true
   },
   "outputs": [
    {
     "data": {
      "text/html": [
       "<div>\n",
       "<style scoped>\n",
       "    .dataframe tbody tr th:only-of-type {\n",
       "        vertical-align: middle;\n",
       "    }\n",
       "\n",
       "    .dataframe tbody tr th {\n",
       "        vertical-align: top;\n",
       "    }\n",
       "\n",
       "    .dataframe thead th {\n",
       "        text-align: right;\n",
       "    }\n",
       "</style>\n",
       "<table border=\"1\" class=\"dataframe\">\n",
       "  <thead>\n",
       "    <tr style=\"text-align: right;\">\n",
       "      <th></th>\n",
       "      <th>id</th>\n",
       "      <th>battery_power</th>\n",
       "      <th>m_dep</th>\n",
       "      <th>mobile_wt</th>\n",
       "      <th>px_height</th>\n",
       "      <th>px_width</th>\n",
       "      <th>ram</th>\n",
       "      <th>sc_h</th>\n",
       "      <th>sc_w</th>\n",
       "      <th>talk_time</th>\n",
       "      <th>gen</th>\n",
       "      <th>f_camera</th>\n",
       "      <th>camera</th>\n",
       "      <th>memory</th>\n",
       "      <th>price</th>\n",
       "      <th>resolution</th>\n",
       "    </tr>\n",
       "  </thead>\n",
       "  <tbody>\n",
       "    <tr>\n",
       "      <th>count</th>\n",
       "      <td>2000.000000</td>\n",
       "      <td>2000.000000</td>\n",
       "      <td>2000.000000</td>\n",
       "      <td>2000.000000</td>\n",
       "      <td>2000.000000</td>\n",
       "      <td>2000.000000</td>\n",
       "      <td>2000.000000</td>\n",
       "      <td>2000.000000</td>\n",
       "      <td>2000.000000</td>\n",
       "      <td>2000.000000</td>\n",
       "      <td>2000.000000</td>\n",
       "      <td>1526.000000</td>\n",
       "      <td>1899.000000</td>\n",
       "      <td>2000.000000</td>\n",
       "      <td>2000.00000</td>\n",
       "      <td>2.000000e+03</td>\n",
       "    </tr>\n",
       "    <tr>\n",
       "      <th>mean</th>\n",
       "      <td>999.500000</td>\n",
       "      <td>1238.518500</td>\n",
       "      <td>0.501750</td>\n",
       "      <td>140.249000</td>\n",
       "      <td>645.108000</td>\n",
       "      <td>1251.515500</td>\n",
       "      <td>2124.213000</td>\n",
       "      <td>12.306500</td>\n",
       "      <td>5.767000</td>\n",
       "      <td>11.011000</td>\n",
       "      <td>3.283000</td>\n",
       "      <td>5.648100</td>\n",
       "      <td>10.443918</td>\n",
       "      <td>32546.259000</td>\n",
       "      <td>862.02435</td>\n",
       "      <td>9.052601e+05</td>\n",
       "    </tr>\n",
       "    <tr>\n",
       "      <th>std</th>\n",
       "      <td>577.494589</td>\n",
       "      <td>439.418206</td>\n",
       "      <td>0.288416</td>\n",
       "      <td>35.399655</td>\n",
       "      <td>443.780811</td>\n",
       "      <td>432.199447</td>\n",
       "      <td>1084.732044</td>\n",
       "      <td>4.213245</td>\n",
       "      <td>4.356398</td>\n",
       "      <td>5.463955</td>\n",
       "      <td>0.824773</td>\n",
       "      <td>4.140169</td>\n",
       "      <td>5.763826</td>\n",
       "      <td>18161.462247</td>\n",
       "      <td>230.26348</td>\n",
       "      <td>8.297625e+05</td>\n",
       "    </tr>\n",
       "    <tr>\n",
       "      <th>min</th>\n",
       "      <td>0.000000</td>\n",
       "      <td>501.000000</td>\n",
       "      <td>0.100000</td>\n",
       "      <td>80.000000</td>\n",
       "      <td>0.000000</td>\n",
       "      <td>500.000000</td>\n",
       "      <td>256.000000</td>\n",
       "      <td>5.000000</td>\n",
       "      <td>0.000000</td>\n",
       "      <td>2.000000</td>\n",
       "      <td>2.000000</td>\n",
       "      <td>1.000000</td>\n",
       "      <td>1.000000</td>\n",
       "      <td>1954.000000</td>\n",
       "      <td>307.11000</td>\n",
       "      <td>0.000000e+00</td>\n",
       "    </tr>\n",
       "    <tr>\n",
       "      <th>25%</th>\n",
       "      <td>499.750000</td>\n",
       "      <td>851.750000</td>\n",
       "      <td>0.200000</td>\n",
       "      <td>109.000000</td>\n",
       "      <td>282.750000</td>\n",
       "      <td>874.750000</td>\n",
       "      <td>1207.500000</td>\n",
       "      <td>9.000000</td>\n",
       "      <td>2.000000</td>\n",
       "      <td>6.000000</td>\n",
       "      <td>3.000000</td>\n",
       "      <td>2.000000</td>\n",
       "      <td>6.000000</td>\n",
       "      <td>16421.000000</td>\n",
       "      <td>698.46750</td>\n",
       "      <td>2.632005e+05</td>\n",
       "    </tr>\n",
       "    <tr>\n",
       "      <th>50%</th>\n",
       "      <td>999.500000</td>\n",
       "      <td>1226.000000</td>\n",
       "      <td>0.500000</td>\n",
       "      <td>141.000000</td>\n",
       "      <td>564.000000</td>\n",
       "      <td>1247.000000</td>\n",
       "      <td>2146.500000</td>\n",
       "      <td>12.000000</td>\n",
       "      <td>5.000000</td>\n",
       "      <td>11.000000</td>\n",
       "      <td>4.000000</td>\n",
       "      <td>5.000000</td>\n",
       "      <td>10.000000</td>\n",
       "      <td>32303.000000</td>\n",
       "      <td>837.63000</td>\n",
       "      <td>6.013590e+05</td>\n",
       "    </tr>\n",
       "    <tr>\n",
       "      <th>75%</th>\n",
       "      <td>1499.250000</td>\n",
       "      <td>1615.250000</td>\n",
       "      <td>0.800000</td>\n",
       "      <td>170.000000</td>\n",
       "      <td>947.250000</td>\n",
       "      <td>1633.000000</td>\n",
       "      <td>3064.500000</td>\n",
       "      <td>16.000000</td>\n",
       "      <td>9.000000</td>\n",
       "      <td>16.000000</td>\n",
       "      <td>4.000000</td>\n",
       "      <td>8.000000</td>\n",
       "      <td>15.000000</td>\n",
       "      <td>48340.250000</td>\n",
       "      <td>1006.71250</td>\n",
       "      <td>1.359027e+06</td>\n",
       "    </tr>\n",
       "    <tr>\n",
       "      <th>max</th>\n",
       "      <td>1999.000000</td>\n",
       "      <td>1998.000000</td>\n",
       "      <td>1.000000</td>\n",
       "      <td>200.000000</td>\n",
       "      <td>1960.000000</td>\n",
       "      <td>1998.000000</td>\n",
       "      <td>3998.000000</td>\n",
       "      <td>19.000000</td>\n",
       "      <td>18.000000</td>\n",
       "      <td>20.000000</td>\n",
       "      <td>4.000000</td>\n",
       "      <td>19.000000</td>\n",
       "      <td>20.000000</td>\n",
       "      <td>64922.000000</td>\n",
       "      <td>1728.97000</td>\n",
       "      <td>3.886306e+06</td>\n",
       "    </tr>\n",
       "  </tbody>\n",
       "</table>\n",
       "</div>"
      ],
      "text/plain": [
       "                id  battery_power        m_dep    mobile_wt    px_height  \\\n",
       "count  2000.000000    2000.000000  2000.000000  2000.000000  2000.000000   \n",
       "mean    999.500000    1238.518500     0.501750   140.249000   645.108000   \n",
       "std     577.494589     439.418206     0.288416    35.399655   443.780811   \n",
       "min       0.000000     501.000000     0.100000    80.000000     0.000000   \n",
       "25%     499.750000     851.750000     0.200000   109.000000   282.750000   \n",
       "50%     999.500000    1226.000000     0.500000   141.000000   564.000000   \n",
       "75%    1499.250000    1615.250000     0.800000   170.000000   947.250000   \n",
       "max    1999.000000    1998.000000     1.000000   200.000000  1960.000000   \n",
       "\n",
       "          px_width          ram         sc_h         sc_w    talk_time  \\\n",
       "count  2000.000000  2000.000000  2000.000000  2000.000000  2000.000000   \n",
       "mean   1251.515500  2124.213000    12.306500     5.767000    11.011000   \n",
       "std     432.199447  1084.732044     4.213245     4.356398     5.463955   \n",
       "min     500.000000   256.000000     5.000000     0.000000     2.000000   \n",
       "25%     874.750000  1207.500000     9.000000     2.000000     6.000000   \n",
       "50%    1247.000000  2146.500000    12.000000     5.000000    11.000000   \n",
       "75%    1633.000000  3064.500000    16.000000     9.000000    16.000000   \n",
       "max    1998.000000  3998.000000    19.000000    18.000000    20.000000   \n",
       "\n",
       "               gen     f_camera       camera        memory       price  \\\n",
       "count  2000.000000  1526.000000  1899.000000   2000.000000  2000.00000   \n",
       "mean      3.283000     5.648100    10.443918  32546.259000   862.02435   \n",
       "std       0.824773     4.140169     5.763826  18161.462247   230.26348   \n",
       "min       2.000000     1.000000     1.000000   1954.000000   307.11000   \n",
       "25%       3.000000     2.000000     6.000000  16421.000000   698.46750   \n",
       "50%       4.000000     5.000000    10.000000  32303.000000   837.63000   \n",
       "75%       4.000000     8.000000    15.000000  48340.250000  1006.71250   \n",
       "max       4.000000    19.000000    20.000000  64922.000000  1728.97000   \n",
       "\n",
       "         resolution  \n",
       "count  2.000000e+03  \n",
       "mean   9.052601e+05  \n",
       "std    8.297625e+05  \n",
       "min    0.000000e+00  \n",
       "25%    2.632005e+05  \n",
       "50%    6.013590e+05  \n",
       "75%    1.359027e+06  \n",
       "max    3.886306e+06  "
      ]
     },
     "execution_count": 98,
     "metadata": {},
     "output_type": "execute_result"
    }
   ],
   "source": [
    "df.describe()"
   ]
  },
  {
   "cell_type": "code",
   "execution_count": null,
   "id": "3a77dce4",
   "metadata": {
    "scrolled": true
   },
   "outputs": [],
   "source": []
  },
  {
   "cell_type": "code",
   "execution_count": null,
   "id": "4044c2f5",
   "metadata": {},
   "outputs": [],
   "source": []
  },
  {
   "cell_type": "code",
   "execution_count": 75,
   "id": "ae7e9e67",
   "metadata": {},
   "outputs": [],
   "source": [
    "no_camera_records = df[df['camera'].isna() & df['f_camera'].isna()]"
   ]
  },
  {
   "cell_type": "code",
   "execution_count": 79,
   "id": "9a55807b",
   "metadata": {},
   "outputs": [
    {
     "data": {
      "text/plain": [
       "101"
      ]
     },
     "execution_count": 79,
     "metadata": {},
     "output_type": "execute_result"
    }
   ],
   "source": [
    "len(no_camera_records)#1. How many phones do not have a camera at all (front or back)"
   ]
  },
  {
   "cell_type": "code",
   "execution_count": 40,
   "id": "37b18281",
   "metadata": {},
   "outputs": [],
   "source": [
    "data_frame_manipulated = df[((df['camera'] >= 1) | df['f_camera'] >= 1) & (df['sim'] == 'Single') & (df['resolution'] > 12)]"
   ]
  },
  {
   "cell_type": "code",
   "execution_count": 71,
   "id": "6c7e77bd",
   "metadata": {},
   "outputs": [
    {
     "data": {
      "text/plain": [
       "1256.2735135135135"
      ]
     },
     "execution_count": 71,
     "metadata": {},
     "output_type": "execute_result"
    }
   ],
   "source": [
    "data_frame_manipulated['battery_power'].mean(skipna = True) # task2 - 2"
   ]
  },
  {
   "cell_type": "code",
   "execution_count": 100,
   "id": "3eff1919",
   "metadata": {
    "scrolled": true
   },
   "outputs": [
    {
     "data": {
      "text/plain": [
       "770    770\n",
       "Name: id, dtype: int64"
      ]
     },
     "execution_count": 100,
     "metadata": {},
     "output_type": "execute_result"
    }
   ],
   "source": [
    "df[df[(df['wifi'] == 'none') & (df['screen'] == 'Touch') & (df['mobile_wt'] > 145)]['price'].max() == df['price']]['id'] # What is the ID and price of the most expensive phone that has no wifi, a touch screen and weighs more than 145 grams?"
   ]
  },
  {
   "cell_type": "code",
   "execution_count": null,
   "id": "d83d28b3",
   "metadata": {
    "scrolled": true
   },
   "outputs": [],
   "source": []
  },
  {
   "cell_type": "code",
   "execution_count": null,
   "id": "fc05815b",
   "metadata": {},
   "outputs": [],
   "source": []
  }
 ],
 "metadata": {
  "kernelspec": {
   "display_name": "Python 3 (ipykernel)",
   "language": "python",
   "name": "python3"
  },
  "language_info": {
   "codemirror_mode": {
    "name": "ipython",
    "version": 3
   },
   "file_extension": ".py",
   "mimetype": "text/x-python",
   "name": "python",
   "nbconvert_exporter": "python",
   "pygments_lexer": "ipython3",
   "version": "3.9.12"
  }
 },
 "nbformat": 4,
 "nbformat_minor": 5
}
