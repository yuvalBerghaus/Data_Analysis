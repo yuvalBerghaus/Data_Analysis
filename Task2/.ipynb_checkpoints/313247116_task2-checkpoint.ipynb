{
 "cells": [
  {
   "cell_type": "code",
   "execution_count": 2,
   "id": "6a3dca75",
   "metadata": {},
   "outputs": [],
   "source": [
    "import pandas as pd\n",
    "\n",
    "df = pd.read_csv('mobile_price_1.csv')"
   ]
  },
  {
   "cell_type": "code",
   "execution_count": 5,
   "id": "5672ac65",
   "metadata": {},
   "outputs": [
    {
     "name": "stdout",
     "output_type": "stream",
     "text": [
      "<class 'pandas.core.frame.DataFrame'>\n"
     ]
    }
   ],
   "source": [
    "print(type(df))"
   ]
  },
  {
   "cell_type": "code",
   "execution_count": null,
   "id": "86aaab95",
   "metadata": {},
   "outputs": [],
   "source": [
    "#speed - ordinal\n",
    "#"
   ]
  },
  {
   "cell_type": "code",
   "execution_count": 13,
   "id": "fdf53e41",
   "metadata": {},
   "outputs": [],
   "source": [
    "df[\"resolution\"] = df[\"px_height\"] * df[\"px_width\"] #3. Add a column that holds the total screen resolution for each device. Name it resolution"
   ]
  },
  {
   "cell_type": "code",
   "execution_count": 3,
   "id": "04e77db0",
   "metadata": {},
   "outputs": [],
   "source": [
    "df[\"DPI_w\"] = ((df['sc_h'] * df['sc_w']) * 0.393700787) / df['px_width'] #Converting the whole screen size in inches and then dividing it by the amount of pixel in width"
   ]
  },
  {
   "cell_type": "code",
   "execution_count": 11,
   "id": "2a4126a6",
   "metadata": {},
   "outputs": [
    {
     "name": "stdout",
     "output_type": "stream",
     "text": [
      "0        7.568\n",
      "1       53.759\n",
      "2       41.140\n",
      "3       10.558\n",
      "4       44.436\n",
      "         ...  \n",
      "1995     2.650\n",
      "1996    39.573\n",
      "1997    36.706\n",
      "1998    46.218\n",
      "1999    45.731\n",
      "Name: memory, Length: 2000, dtype: float64\n"
     ]
    }
   ],
   "source": [
    "print(df['memory'])"
   ]
  },
  {
   "cell_type": "code",
   "execution_count": 5,
   "id": "2d996c86",
   "metadata": {},
   "outputs": [],
   "source": [
    "df[\"call_ratio\"] = df[\"battery_power\"] / df[\"talk_time\"] # Add a column that holds the ratio battery_power/talk_time and name it call_ratio. 6."
   ]
  },
  {
   "cell_type": "code",
   "execution_count": 10,
   "id": "43f622e6",
   "metadata": {},
   "outputs": [],
   "source": [
    "df[\"memory\"] = df[\"memory\"]/1000 # Change the memory column to hold the memory in GB instead of MB."
   ]
  },
  {
   "cell_type": "code",
   "execution_count": null,
   "id": "7715ff55",
   "metadata": {},
   "outputs": [],
   "source": [
    "df.speed = df.speed.astype('category')\n",
    "df.cores = df.cores.astype('category')\n",
    "df.screen = df.screen.astype('category') # 8. Convert the following features into categorical series in the Dataframe: speed,screen,cores"
   ]
  },
  {
   "cell_type": "code",
   "execution_count": null,
   "id": "aa885368",
   "metadata": {},
   "outputs": [],
   "source": [
    "df.describe()"
   ]
  },
  {
   "cell_type": "code",
   "execution_count": null,
   "id": "3c2833f0",
   "metadata": {},
   "outputs": [],
   "source": [
    "no_camera_records = df[df['camera'].isna() & df['f_camera'].isna()]"
   ]
  },
  {
   "cell_type": "code",
   "execution_count": null,
   "id": "2f1d758d",
   "metadata": {},
   "outputs": [],
   "source": [
    "len(no_camera_records)#1. How many phones do not have a camera at all (front or back)"
   ]
  },
  {
   "cell_type": "code",
   "execution_count": 14,
   "id": "689fc04c",
   "metadata": {},
   "outputs": [
    {
     "data": {
      "text/plain": [
       "1256.2735135135135"
      ]
     },
     "execution_count": 14,
     "metadata": {},
     "output_type": "execute_result"
    }
   ],
   "source": [
    "data_frame_manipulated = df[((df['camera'] >= 1) | df['f_camera'] >= 1) & (df['sim'] == 'Single') & (df['resolution'] > 12)]\n",
    "data_frame_manipulated['battery_power'].mean(skipna = True) # What is the average battery power for single-sim phones that have a camera or front camera with a higher resolution than 12 megapixels?"
   ]
  },
  {
   "cell_type": "code",
   "execution_count": 99,
   "id": "12168ebc",
   "metadata": {},
   "outputs": [],
   "source": []
  },
  {
   "cell_type": "code",
   "execution_count": null,
   "id": "5865ceae",
   "metadata": {
    "scrolled": true
   },
   "outputs": [],
   "source": [
    "df[df[(df['wifi'] == 'none') & (df['screen'] == 'Touch') & (df['mobile_wt'] > 145)]['price'].max() == df['price']]['id'] # What is the ID and price of the most expensive phone that has no wifi, a touch screen and weighs more than 145 grams?"
   ]
  },
  {
   "cell_type": "code",
   "execution_count": null,
   "id": "3a77dce4",
   "metadata": {
    "scrolled": true
   },
   "outputs": [],
   "source": []
  },
  {
   "cell_type": "code",
   "execution_count": null,
   "id": "4044c2f5",
   "metadata": {},
   "outputs": [],
   "source": []
  },
  {
   "cell_type": "code",
   "execution_count": 75,
   "id": "ae7e9e67",
   "metadata": {},
   "outputs": [],
   "source": []
  },
  {
   "cell_type": "code",
   "execution_count": null,
   "id": "9a55807b",
   "metadata": {},
   "outputs": [],
   "source": []
  },
  {
   "cell_type": "code",
   "execution_count": 40,
   "id": "37b18281",
   "metadata": {},
   "outputs": [],
   "source": []
  },
  {
   "cell_type": "code",
   "execution_count": null,
   "id": "6c7e77bd",
   "metadata": {},
   "outputs": [],
   "source": []
  },
  {
   "cell_type": "code",
   "execution_count": null,
   "id": "3eff1919",
   "metadata": {
    "scrolled": true
   },
   "outputs": [],
   "source": []
  },
  {
   "cell_type": "code",
   "execution_count": null,
   "id": "d83d28b3",
   "metadata": {
    "scrolled": true
   },
   "outputs": [],
   "source": []
  },
  {
   "cell_type": "code",
   "execution_count": null,
   "id": "fc05815b",
   "metadata": {},
   "outputs": [],
   "source": []
  }
 ],
 "metadata": {
  "kernelspec": {
   "display_name": "Python 3 (ipykernel)",
   "language": "python",
   "name": "python3"
  },
  "language_info": {
   "codemirror_mode": {
    "name": "ipython",
    "version": 3
   },
   "file_extension": ".py",
   "mimetype": "text/x-python",
   "name": "python",
   "nbconvert_exporter": "python",
   "pygments_lexer": "ipython3",
   "version": "3.9.12"
  }
 },
 "nbformat": 4,
 "nbformat_minor": 5
}
